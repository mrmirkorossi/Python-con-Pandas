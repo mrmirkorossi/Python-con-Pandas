{
 "cells": [
  {
   "cell_type": "code",
   "execution_count": null,
   "id": "9bd3b294",
   "metadata": {},
   "outputs": [],
   "source": [
    "#DATA CLEANING"
   ]
  },
  {
   "cell_type": "code",
   "execution_count": null,
   "id": "967d1257",
   "metadata": {},
   "outputs": [],
   "source": [
    "# Standard libraries \n",
    "import numpy as np\n",
    "import pandas as pd\n",
    "import seaborn as sns\n",
    "from matplotlib import pyplot as plt\n",
    "import re\n",
    "\n",
    "# Importing data\n",
    "df_raw = pd.read_csv('original_dataset.csv')\n",
    "\n",
    "# Creating a copy of the raw data to mantain the original version just in case\n",
    "df = df_raw.copy()"
   ]
  },
  {
   "cell_type": "code",
   "execution_count": null,
   "id": "a7668bbc",
   "metadata": {},
   "outputs": [],
   "source": [
    "#Salva file modificato\n",
    "df.to_csv('cleaned_dataset.csv')"
   ]
  },
  {
   "cell_type": "code",
   "execution_count": null,
   "id": "37ac4dfa",
   "metadata": {},
   "outputs": [],
   "source": [
    "# Dataset visualisation\n",
    "df.head(5)"
   ]
  },
  {
   "cell_type": "code",
   "execution_count": null,
   "id": "e2521813",
   "metadata": {},
   "outputs": [],
   "source": [
    "# Columns types and non-null count\n",
    "df.info()"
   ]
  },
  {
   "cell_type": "code",
   "execution_count": null,
   "id": "6459736c",
   "metadata": {},
   "outputs": [],
   "source": [
    "# Definisci una funzione per estrarre l'anno da una stringa usando regex\n",
    "def estrai_anno_da_stringa(testo):\n",
    "    year = re.findall(r'\\b\\d{4}\\b', testo)  # Trova tutti i pattern YYYY nel testo\n",
    "    if year:\n",
    "        return int(year[0])  # Prendi il primo anno trovato come intero\n",
    "    else:\n",
    "        return None\n",
    "\n",
    "# Applica la funzione al campo 'title' per estrarre l'anno\n",
    "df['year'] = df['title'].apply(estrai_anno_da_stringa)\n",
    "\n",
    "# Gestisci i valori NaN e infiniti sostituendoli con 0\n",
    "df['year'].fillna(0, inplace=True)\n",
    "\n",
    "# Trasforma la colonna \"anni\" in valori interi\n",
    "df['year'] = df['year'].astype(int)"
   ]
  },
  {
   "cell_type": "code",
   "execution_count": null,
   "id": "7de7abaa",
   "metadata": {},
   "outputs": [],
   "source": [
    "# Funzione per copiare il valore da \"title\" a \"designation se \"designation\" è nullo\n",
    "def estrai_designation_da_title(row):\n",
    "    if pd.isna(row['designation']):\n",
    "        # Utilizza un'espressione regolare per estrarre \"designation\"\n",
    "        result = re.search(r'\\d{4}\\s(.+?)\\s\\(', row['title'])\n",
    "        if result:\n",
    "            row['designation'] = result.group(1)\n",
    "        else:\n",
    "            # Se l'estrazione da \"title\" è nullo, copia il contenuto di \"variety\"\n",
    "            row['designation'] = row['variety']\n",
    "    return row\n",
    "\n",
    "# Applica la funzione a ciascuna riga del DataFrame\n",
    "df = df.apply(estrai_designation_da_title, axis=1)"
   ]
  },
  {
   "cell_type": "code",
   "execution_count": null,
   "id": "ba8f37bb",
   "metadata": {},
   "outputs": [],
   "source": [
    "# Dropping unnecessary columns\n",
    "df.drop(['Unnamed: 0', 'province', 'region_1', 'region_2', \n",
    "         'title', 'taster_name', 'taster_twitter_handle'], \n",
    "        axis=1, inplace=True)"
   ]
  },
  {
   "cell_type": "code",
   "execution_count": null,
   "id": "8010c393",
   "metadata": {},
   "outputs": [],
   "source": [
    "# Definisci l'ordine desiderato delle colonne\n",
    "nuovo_ordine_colonne = ['country', 'description', 'winery', 'variety', \n",
    "                        'designation', 'year', 'points', 'price']\n",
    "\n",
    "# Seleziona le colonne nel nuovo ordine\n",
    "df = df[nuovo_ordine_colonne]"
   ]
  },
  {
   "cell_type": "code",
   "execution_count": null,
   "id": "e79395ab",
   "metadata": {},
   "outputs": [],
   "source": [
    "# Calcola il numero di valori nulli per ogni colonna\n",
    "null_counts = df.isnull().sum()\n",
    "\n",
    "# Calcola il totale di valori in ogni colonna\n",
    "total_counts = df.shape[0]\n",
    "\n",
    "# Calcola la percentuale dei valori nulli\n",
    "null_percentage = (null_counts / total_counts * 100).round(2).astype(str) + '%'\n",
    "\n",
    "# Crea un nuovo DataFrame con i risultati\n",
    "null_info = pd.DataFrame({'Null Count': null_counts, 'Percentage': null_percentage})\n",
    "\n",
    "print(null_info)"
   ]
  },
  {
   "cell_type": "code",
   "execution_count": null,
   "id": "787d9276",
   "metadata": {},
   "outputs": [],
   "source": [
    "# Ricerca dei valori mancanti di designation\n",
    "filtered_df = df[df['designation'].isnull()]\n",
    "filtered_df"
   ]
  },
  {
   "cell_type": "code",
   "execution_count": null,
   "id": "a2098fb8",
   "metadata": {},
   "outputs": [],
   "source": [
    "# Elimina le righe con almeno un valore nullo di price e designation\n",
    "df.dropna(subset=['price', 'designation'], inplace=True)"
   ]
  },
  {
   "cell_type": "code",
   "execution_count": null,
   "id": "b58453cb",
   "metadata": {},
   "outputs": [],
   "source": [
    "#DATA ANALYSIS E VISUALISATION"
   ]
  },
  {
   "cell_type": "code",
   "execution_count": null,
   "id": "aeadcf51",
   "metadata": {},
   "outputs": [],
   "source": [
    "#Analisi statistica del campo points\n",
    "df['points'].describe()"
   ]
  },
  {
   "cell_type": "code",
   "execution_count": null,
   "id": "bf471768",
   "metadata": {},
   "outputs": [],
   "source": [
    "# Points Distribution\n",
    "plt.hist(df[\"points\"], bins=20, density=True, rwidth=0.8)  # Puoi regolare il valore di rwidth\n",
    "plt.grid(True, alpha=0.5)\n",
    "plt.gca().set_axisbelow(True)  # Imposta l'asse sotto agli altri elementi\n",
    "\n",
    "# Aggiungi le etichette agli assi\n",
    "plt.xlabel('Points')\n",
    "plt.ylabel('Percentage of Density')\n",
    "\n",
    "plt.show()"
   ]
  },
  {
   "cell_type": "code",
   "execution_count": null,
   "id": "596185c2",
   "metadata": {},
   "outputs": [],
   "source": [
    "#Analisi statistica del campo price\n",
    "df['price'].describe()"
   ]
  },
  {
   "cell_type": "code",
   "execution_count": null,
   "id": "f0121b1f",
   "metadata": {},
   "outputs": [],
   "source": [
    "# Price Distribution\n",
    "plt.hist(df[\"price\"], bins=50, density=True, rwidth=0.8)  # Puoi regolare il valore di rwidth\n",
    "plt.grid(True, alpha=0.5)\n",
    "plt.gca().set_axisbelow(True)  # Imposta l'asse sotto agli altri elementi\n",
    "\n",
    "# Aggiungi le etichette agli assi\n",
    "plt.xlabel('Price')\n",
    "plt.ylabel('Percentage of Density')\n",
    "\n",
    "plt.show()"
   ]
  },
  {
   "cell_type": "code",
   "execution_count": null,
   "id": "22c7ecfd",
   "metadata": {},
   "outputs": [],
   "source": [
    "# Calcola il 90° percentile dei prezzi\n",
    "price_90th_percentile = df['price'].quantile(0.9)\n",
    "\n",
    "# Filtra il DataFrame includendo \n",
    "# solo i prezzi entro il 90° percentile\n",
    "filtered_df = df[df['price'] <= price_90th_percentile]\n",
    "\n",
    "filtered_df['price'].describe()"
   ]
  },
  {
   "cell_type": "code",
   "execution_count": null,
   "id": "7e85fa97",
   "metadata": {},
   "outputs": [],
   "source": [
    "# Price Distribution considering 90th percentile\n",
    "plt.hist(df[\"price\"], range = (0,65), bins=20, density=True, rwidth=0.8)  # Puoi regolare il valore di rwidth\n",
    "plt.grid(True, alpha=0.5)\n",
    "plt.gca().set_axisbelow(True)  # Impostazione l'asse sotto agli altri elementi\n",
    "\n",
    "# Aggiungi le etichette agli assi\n",
    "plt.xlabel('Price')\n",
    "plt.ylabel('Percentage of Density')\n",
    "\n",
    "plt.show()"
   ]
  },
  {
   "cell_type": "code",
   "execution_count": null,
   "id": "501a1cd9",
   "metadata": {},
   "outputs": [],
   "source": [
    "# Classifica dei vini per nazione\n",
    "\n",
    "# Calcola la frequenza delle varie nazioni\n",
    "country_counts = df['country'].value_counts()\n",
    "\n",
    "# Seleziona solo le prime 10 nazioni\n",
    "top_countries = country_counts.head(10)\n",
    "\n",
    "# Calcola le percentuali\n",
    "percentages = (top_countries / top_countries.sum()) * 100\n",
    "\n",
    "# Plotta il diagramma a barre con colori diversi\n",
    "plt.figure(figsize=(10, 6))\n",
    "bars = plt.bar(top_countries.index, percentages, color=plt.cm.Paired.colors)\n",
    "\n",
    "# Mostra il nome della nazione in orizzontale\n",
    "plt.xticks(rotation=45, ha='right')\n",
    "\n",
    "# Aggiungi la griglia come sfondo\n",
    "plt.grid(True, alpha=0.5)\n",
    "plt.gca().set_axisbelow(True)  # Impostazione l'asse sotto agli altri elementi\n",
    "\n",
    "# Aggiungi le percentuali sopra ogni barra con il simbolo %\n",
    "for bar, percent in zip(bars, percentages):\n",
    "    plt.text(bar.get_x() + bar.get_width() / 2, bar.get_height() + 0.5,\n",
    "             f'{percent:.2f}%', ha='center', va='bottom')\n",
    "\n",
    "# Aggiungi il simbolo % all'asse delle ordinate\n",
    "plt.gca().set_yticklabels([f'{int(tick)}%' for tick in plt.gca().get_yticks()])\n",
    "\n",
    "plt.title('Top 10 Nazioni per Frequenza (Percentuali sul Totale)')\n",
    "plt.xlabel('Nazione')\n",
    "plt.ylabel('Percentuale sul Totale')\n",
    "\n",
    "plt.show()"
   ]
  },
  {
   "cell_type": "code",
   "execution_count": null,
   "id": "d61904e1",
   "metadata": {},
   "outputs": [],
   "source": [
    "# Classifica delle varietà vinicole per nazione\n",
    "\n",
    "# Calcola il numero di varietà uniche per ciascun paese\n",
    "unique_varieties_by_country = df.groupby('country')['variety'].nunique().sort_values(ascending=False)\n",
    "\n",
    "# Seleziona i primi 10 paesi\n",
    "top_10_countries = unique_varieties_by_country.head(10)\n",
    "\n",
    "# Calcola le percentuali\n",
    "total_varieties = top_10_countries.sum()\n",
    "percentages = (top_10_countries / total_varieties) * 100\n",
    "\n",
    "# Plotta il diagramma a barre con colori diversi\n",
    "plt.figure(figsize=(10, 6))\n",
    "bars = plt.bar(top_10_countries.index, percentages, color=plt.cm.Paired.colors)\n",
    "\n",
    "# Aggiungi etichette percentuali sopra ogni barra\n",
    "for bar, percentage in zip(bars, percentages):\n",
    "    yval = bar.get_height()\n",
    "    plt.text(bar.get_x() + bar.get_width()/2, yval, f'{percentage:.2f}%', ha='center', va='bottom')\n",
    "    \n",
    "# Aggiungi la griglia come sfondo\n",
    "plt.grid(True, alpha=0.5)\n",
    "plt.gca().set_axisbelow(True)  # Imposta l'asse sotto agli altri elementi\n",
    "\n",
    "plt.xlabel('Country')\n",
    "plt.ylabel('Number of Unique Varieties')\n",
    "plt.title('Top 10 Countries by Number of Unique Varieties')\n",
    "plt.xticks(rotation=45, ha='right')\n",
    "plt.tight_layout()\n",
    "\n",
    "# Mostra il grafico\n",
    "plt.show()"
   ]
  },
  {
   "cell_type": "code",
   "execution_count": null,
   "id": "25eb8927",
   "metadata": {},
   "outputs": [],
   "source": [
    "# Classifica dei vini in base alla media punteggi\n",
    "\n",
    "# Conta il numero di record per ogni paese\n",
    "country_counts = df['country'].value_counts()\n",
    "\n",
    "# Seleziona solo i paesi con almeno 1000 record\n",
    "valid_countries = country_counts[country_counts >= 1000].index\n",
    "\n",
    "# Filtra il DataFrame solo per i paesi validi\n",
    "df_filtered = df[df['country'].isin(valid_countries)]\n",
    "\n",
    "# Calcola la media di punteggi per ogni paese\n",
    "mean_points_by_country = df_filtered.groupby('country')['points'].mean()\n",
    "\n",
    "# Arrotonda la media a due decimali\n",
    "mean_points_by_country = mean_points_by_country.round(2)\n",
    "\n",
    "# Ordina i paesi in base alla media di punteggi in ordine decrescente\n",
    "ranked_countries = mean_points_by_country.sort_values(ascending=False)\n",
    "\n",
    "# Crea una tabella con la classifica\n",
    "ranked_table = pd.DataFrame({'Nazione': ranked_countries.index, 'Media Punteggi': ranked_countries.values})\n",
    "\n",
    "ranked_table"
   ]
  },
  {
   "cell_type": "code",
   "execution_count": null,
   "id": "25f626b6",
   "metadata": {},
   "outputs": [],
   "source": [
    "# Classifica dei vini in base alla media prezzi\n",
    "\n",
    "# Conta il numero di record per ogni paese\n",
    "country_counts = df['country'].value_counts()\n",
    "\n",
    "# Seleziona solo i paesi con almeno 1000 record\n",
    "valid_countries = country_counts[country_counts >= 1000].index\n",
    "\n",
    "# Filtra il DataFrame solo per i paesi validi\n",
    "df_filtered = df[df['country'].isin(valid_countries)]\n",
    "\n",
    "# Calcola la media dei prezzi per ogni paese\n",
    "mean_price_by_country = df_filtered.groupby('country')['price'].mean()\n",
    "\n",
    "# Arrotonda la media a due decimali\n",
    "mean_price_by_country = mean_price_by_country.round(2)\n",
    "\n",
    "# Ordina i paesi in base alla media dei prezzi in ordine decrescente\n",
    "ranked_countries = mean_price_by_country.sort_values(ascending=False)\n",
    "\n",
    "# Crea una tabella con la classifica\n",
    "ranked_table = pd.DataFrame({'Nazione': ranked_countries.index, 'Media Prezzi': ranked_countries.values})\n",
    "\n",
    "ranked_table"
   ]
  },
  {
   "cell_type": "code",
   "execution_count": null,
   "id": "2b4ff0f1",
   "metadata": {},
   "outputs": [],
   "source": [
    "# Correlazione prezzo-qualità\n",
    "\n",
    "# Filtra il DataFrame per includere solo i vini con prezzi fino a 65 € (90mo percentile)\n",
    "filtered_df = df[df['price'] <= 200]\n",
    "\n",
    "# Creazione del grafico di correlazione\n",
    "plt.figure(figsize=(10, 8))\n",
    "sns.scatterplot(x='points', y='price', data=filtered_df, color='purple', alpha=0.6)\n",
    "plt.xlabel('Points')\n",
    "plt.ylabel('Price (Euro)')\n",
    "plt.title('Correlation between Wine Prices and Points')\n",
    "plt.tight_layout()\n",
    "\n",
    "# Mostra il grafico\n",
    "plt.show()"
   ]
  },
  {
   "cell_type": "code",
   "execution_count": null,
   "id": "779fdfb0",
   "metadata": {},
   "outputs": [],
   "source": [
    "# Calcola la matrice di correlazione prezzo-qualità\n",
    "\n",
    "correlation_matrix = df[['price', 'points']].corr()\n",
    "\n",
    "# Creazione della heatmap della matrice di correlazione con seaborn\n",
    "plt.figure(figsize=(8, 6))\n",
    "sns.heatmap(correlation_matrix, annot=True, cmap='coolwarm', fmt='.2f', linewidths=0.5)\n",
    "plt.title('Correlation Matrix: Price vs Points')\n",
    "plt.show()"
   ]
  },
  {
   "cell_type": "code",
   "execution_count": null,
   "id": "caeb6ea8",
   "metadata": {
    "scrolled": true
   },
   "outputs": [],
   "source": [
    "# Filtra i vini con anno maggiore o uguale a 1472\n",
    "filtered_wines = df[df['year'] >= 1472]\n",
    "\n",
    "# Ordina la tabella in modo crescente rispetto al campo 'year' e seleziona le prime 10 righe\n",
    "result_table = filtered_wines.sort_values(by='year').head(10)\n",
    "\n",
    "# Seleziona solo i campi desiderati\n",
    "selected_columns = ['year', 'variety', 'price']\n",
    "\n",
    "# Mostra la tabella risultante\n",
    "print(result_table[selected_columns])\n"
   ]
  },
  {
   "cell_type": "code",
   "execution_count": null,
   "id": "b8505cff",
   "metadata": {},
   "outputs": [],
   "source": [
    "plt.figure(figsize=(12, 8))\n",
    "sns.histplot(df['year'], bins=30, kde=True, color='skyblue')\n",
    "plt.xlabel('Year')\n",
    "plt.ylabel('Frequency')\n",
    "plt.title('Distribution of Wine Years')\n",
    "plt.show()\n"
   ]
  },
  {
   "cell_type": "code",
   "execution_count": null,
   "id": "b1578895",
   "metadata": {},
   "outputs": [],
   "source": [
    "filtered_years = df[(df['year'] >= 1980) & (df['year'] <= 2023)]\n",
    "\n",
    "plt.figure(figsize=(12, 8))\n",
    "sns.histplot(filtered_years['year'], bins=30, kde=True, color='skyblue')\n",
    "plt.xlabel('Year')\n",
    "plt.ylabel('Frequency')\n",
    "plt.title('Distribution of Wine Years (1472-2023)')\n",
    "plt.show()\n"
   ]
  },
  {
   "cell_type": "code",
   "execution_count": null,
   "id": "ed763aef",
   "metadata": {},
   "outputs": [],
   "source": [
    "# Filtra il DataFrame per includere solo i vini con prezzo massimo di 1000 € e anni tra 1995 e 2023\n",
    "filtered_wines = df[(df['price'] <= 1000) & (df['year'] >= 1995) & (df['year'] <= 2023)]\n",
    "\n",
    "plt.figure(figsize=(12, 8))\n",
    "sns.scatterplot(x='year', y='price', data=filtered_wines, color='skyblue', alpha=0.5)\n",
    "plt.xlabel('Year')\n",
    "plt.ylabel('Price')\n",
    "plt.title('Scatter Plot of Wine Years and Prices (1995-2023, Price <= 1000 €)')\n",
    "plt.show()"
   ]
  },
  {
   "cell_type": "code",
   "execution_count": null,
   "id": "2448b8ab",
   "metadata": {},
   "outputs": [],
   "source": [
    "# Filtra il DataFrame per includere solo i vini con prezzo massimo di 1000 €\n",
    "filtered_wines = df[df['price'] <= 1000]\n",
    "\n",
    "plt.figure(figsize=(12, 8))\n",
    "sns.scatterplot(x='year', y='price', data=filtered_wines, color='skyblue', alpha=0.5)\n",
    "plt.xlabel('Year')\n",
    "plt.ylabel('Price')\n",
    "plt.title('Scatter Plot of Wine Years and Prices (Price <= 1000 €)')\n",
    "plt.show()\n"
   ]
  },
  {
   "cell_type": "code",
   "execution_count": null,
   "id": "acecf12b",
   "metadata": {},
   "outputs": [],
   "source": [
    "filtered_wines = df[(df['price'] <= 1000) & (df['year'] >= 1995) & (df['year'] <= 2023)]\n",
    "\n",
    "plt.figure(figsize=(12, 8))\n",
    "sns.heatmap(filtered_years[['price', 'year']].corr(), annot=True, cmap='coolwarm', fmt='.2f')\n",
    "plt.title('Correlation Heatmap between Price and Year')\n",
    "plt.show()\n"
   ]
  },
  {
   "cell_type": "code",
   "execution_count": null,
   "id": "3501a5b9",
   "metadata": {},
   "outputs": [],
   "source": [
    "# Classifica dei vini più costosi\n",
    "\n",
    "# Ordina il DataFrame in base al prezzo in modo decrescente\n",
    "df_sorted = df.sort_values(by='price', ascending=False)\n",
    "\n",
    "# Estrai i primi 10 vini più costosi\n",
    "top_10_wines = df_sorted.head(10)\n",
    "\n",
    "# Seleziona solo le colonne desiderate e azzerare gli indici\n",
    "selected_columns = ['country', 'variety', 'price']\n",
    "top_10_wines_selected = top_10_wines[selected_columns].reset_index(drop=True)\n",
    "\n",
    "top_10_wines_selected"
   ]
  },
  {
   "cell_type": "code",
   "execution_count": null,
   "id": "e83b3df6",
   "metadata": {},
   "outputs": [],
   "source": [
    "# Classifica delle eccellenze\n",
    "\n",
    "# Filtra il DataFrame per vini con punteggio tra 98 e 100\n",
    "excellent_wines = df[(df['points'] >= 98) & (df['points'] <= 100)]\n",
    "\n",
    "# Conta il numero di vini eccellenti per ogni paese\n",
    "excellent_counts = excellent_wines['country'].value_counts()\n",
    "\n",
    "# Seleziona solo i paesi con almeno un vino eccellente\n",
    "valid_countries = excellent_counts[excellent_counts > 0].index\n",
    "\n",
    "# Ordina i paesi in base al totale di vini eccellenti in ordine decrescente\n",
    "ranked_countries = excellent_counts.loc[valid_countries].sort_values(ascending=False)\n",
    "\n",
    "# Plotta il grafico a barre\n",
    "plt.figure(figsize=(10, 6))\n",
    "bars = plt.bar(ranked_countries.index, ranked_countries.values, color=plt.cm.Paired.colors)\n",
    "\n",
    "# Mostra il totale di vini eccellenti sulla cima di ogni barra\n",
    "for bar, count in zip(bars, ranked_countries.values):\n",
    "    plt.text(bar.get_x() + bar.get_width() / 2, bar.get_height() + 0.1,\n",
    "             f'{count}', ha='center', va='bottom')\n",
    "\n",
    "plt.title('Classifica Paesi con più Vini Eccellenti (punteggio tra 98 e 100)')\n",
    "plt.xlabel('Nazione')\n",
    "plt.ylabel('Totale Vini Eccellenti')\n",
    "plt.xticks(rotation=45, ha='right')\n",
    "plt.grid(True, alpha=0.5)\n",
    "plt.gca().set_axisbelow(True)  # Imposta l'asse sotto agli altri elementi\n",
    "\n",
    "plt.show()"
   ]
  },
  {
   "cell_type": "code",
   "execution_count": null,
   "id": "3e52d39d",
   "metadata": {
    "scrolled": true
   },
   "outputs": [],
   "source": [
    "# Classifica vini per varietà\n",
    "\n",
    "# Calcola la frequenza delle varietà\n",
    "variety_counts = df['variety'].value_counts()\n",
    "\n",
    "# Seleziona solo le prime 10 varietà\n",
    "top_varieties = variety_counts.head(10)\n",
    "\n",
    "# Calcola le percentuali\n",
    "percentages = (top_varieties / top_varieties.sum()) * 100\n",
    "\n",
    "# Plotta il diagramma a barre con colori diversi\n",
    "plt.figure(figsize=(10, 6))\n",
    "bars = plt.bar(top_varieties.index, percentages, color=plt.cm.Paired.colors)\n",
    "\n",
    "# Mostra il nome della nazione in orizzontale\n",
    "plt.xticks(rotation=45, ha='right')\n",
    "\n",
    "# Aggiungi la griglia come sfondo\n",
    "plt.grid(True, alpha=0.5)\n",
    "plt.gca().set_axisbelow(True)  # Imposta l'asse sotto agli altri elementi\n",
    "\n",
    "# Aggiungi le percentuali sopra ogni barra con il simbolo %\n",
    "for bar, percent in zip(bars, percentages):\n",
    "    plt.text(bar.get_x() + bar.get_width() / 2, bar.get_height() + 2,\n",
    "             f'{percent:.2f}%', ha='center', va='bottom')\n",
    "\n",
    "# Aggiungi il simbolo % all'asse delle ordinate\n",
    "plt.gca().set_yticklabels([f'{int(tick)}%' for tick in plt.gca().get_yticks()])\n",
    "\n",
    "# Aggiungi spazio tra la barra più alta e il perimetro del grafico\n",
    "plt.ylim(0, max(percentages) + 3)\n",
    "\n",
    "plt.title('Top 10 Varietà per Frequenza (Percentuali sul Totale)')\n",
    "plt.xlabel('Varietà')\n",
    "plt.ylabel('Percentuale sul Totale')\n",
    "\n",
    "plt.show()"
   ]
  },
  {
   "cell_type": "code",
   "execution_count": null,
   "id": "c7c8c51a",
   "metadata": {},
   "outputs": [],
   "source": [
    "# Classifica varietà del vini per Paese\n",
    "\n",
    "#Calcola la frequenza percentuale delle varietà con i rispettivi paesi produttori\n",
    "top_varieties_with_country = df.groupby(['variety', 'country']).size().reset_index(name='frequency')\n",
    "total_entries = len(df)  # Calcola il totale delle righe nel DataFrame\n",
    "\n",
    "# Calcola la frequenza percentuale\n",
    "top_varieties_with_country['percentage'] = (top_varieties_with_country['frequency'] / total_entries) * 100\n",
    "\n",
    "# Ordina per frequenza percentuale in modo decrescente e ottieni i primi 10 risultati\n",
    "top_varieties_with_country = top_varieties_with_country.sort_values(by='percentage', ascending=False).head(10)\n",
    "\n",
    "# Creazione del grafico a barre verticali con percentuali etichettate\n",
    "plt.figure(figsize=(12, 8))\n",
    "ax = sns.barplot(x='variety', y='percentage', hue='country', data=top_varieties_with_country, dodge=True)\n",
    "plt.xlabel('Variety')\n",
    "plt.ylabel('Percentage')\n",
    "plt.title('Top 10 Varieties with Country of Origin (Percentage)')\n",
    "\n",
    "# Aggiungi etichette percentuali sopra le barre\n",
    "for p in ax.patches:\n",
    "    height = p.get_height()\n",
    "    plt.text(p.get_x() + p.get_width() / 2, height, f'{height:.2f}%', ha='center', va='bottom')\n",
    "\n",
    "plt.legend(title='Country', bbox_to_anchor=(1.05, 1), loc='upper left')\n",
    "plt.xticks(rotation=45, ha='right')\n",
    "plt.tight_layout()\n",
    "\n",
    "# Mostra il grafico\n",
    "plt.show()"
   ]
  },
  {
   "cell_type": "code",
   "execution_count": null,
   "id": "588f70d9",
   "metadata": {},
   "outputs": [],
   "source": [
    "#CREAZIONE DEL CATALOGO"
   ]
  },
  {
   "cell_type": "code",
   "execution_count": null,
   "id": "aab5cb7f",
   "metadata": {},
   "outputs": [],
   "source": [
    "# Filtra il DataFrame per vini con prezzo fino a 100 €\n",
    "filtered_wines = df[df['price'] <= 100]\n",
    "\n",
    "# Ordina i vini in base al punteggio in ordine decrescente e prendi i primi 50\n",
    "top_50_wines = filtered_wines.sort_values(by='points', ascending=False).head(50)\n",
    "\n",
    "# Resetta l'indice in modo che parta da 1\n",
    "top_50_wines.reset_index(drop=True, inplace=True)\n",
    "\n",
    "top_50_wines"
   ]
  },
  {
   "cell_type": "code",
   "execution_count": null,
   "id": "b8aa74bd",
   "metadata": {},
   "outputs": [],
   "source": [
    "#Salva file modificato\n",
    "top_50_wines.to_csv('catalogue.csv')"
   ]
  }
 ],
 "metadata": {
  "kernelspec": {
   "display_name": "Python 3 (ipykernel)",
   "language": "python",
   "name": "python3"
  },
  "language_info": {
   "codemirror_mode": {
    "name": "ipython",
    "version": 3
   },
   "file_extension": ".py",
   "mimetype": "text/x-python",
   "name": "python",
   "nbconvert_exporter": "python",
   "pygments_lexer": "ipython3",
   "version": "3.9.12"
  }
 },
 "nbformat": 4,
 "nbformat_minor": 5
}
